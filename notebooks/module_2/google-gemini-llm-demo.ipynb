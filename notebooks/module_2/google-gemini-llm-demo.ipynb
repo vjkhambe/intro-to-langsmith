{
 "cells": [
  {
   "cell_type": "code",
   "execution_count": 3,
   "id": "cf84efda-f3ad-448f-913a-e44a712ec323",
   "metadata": {},
   "outputs": [],
   "source": [
    "#pip install google-generativeai"
   ]
  },
  {
   "cell_type": "code",
   "execution_count": 5,
   "id": "0a311f27-8223-464e-8c00-4ca96c5d7ede",
   "metadata": {},
   "outputs": [],
   "source": [
    "#pip install langchain_google_genai"
   ]
  },
  {
   "cell_type": "code",
   "execution_count": 4,
   "id": "31c52061-ceaf-497f-82cd-8278f254d819",
   "metadata": {},
   "outputs": [
    {
     "name": "stdout",
     "output_type": "stream",
     "text": [
      "\n",
      "\u001b[1m[\u001b[0m\u001b[34;49mnotice\u001b[0m\u001b[1;39;49m]\u001b[0m\u001b[39;49m A new release of pip is available: \u001b[0m\u001b[31;49m24.0\u001b[0m\u001b[39;49m -> \u001b[0m\u001b[32;49m24.3.1\u001b[0m\n",
      "\u001b[1m[\u001b[0m\u001b[34;49mnotice\u001b[0m\u001b[1;39;49m]\u001b[0m\u001b[39;49m To update, run: \u001b[0m\u001b[32;49mpip install --upgrade pip\u001b[0m\n"
     ]
    }
   ],
   "source": [
    "!pip install --quiet -U langchain-google-genai\n"
   ]
  },
  {
   "cell_type": "code",
   "execution_count": 5,
   "id": "21e2587e-0ee6-4d3a-a6e1-630aa9208380",
   "metadata": {},
   "outputs": [
    {
     "name": "stdout",
     "output_type": "stream",
     "text": [
      "\n",
      "\u001b[1m[\u001b[0m\u001b[34;49mnotice\u001b[0m\u001b[1;39;49m]\u001b[0m\u001b[39;49m A new release of pip is available: \u001b[0m\u001b[31;49m24.0\u001b[0m\u001b[39;49m -> \u001b[0m\u001b[32;49m24.3.1\u001b[0m\n",
      "\u001b[1m[\u001b[0m\u001b[34;49mnotice\u001b[0m\u001b[1;39;49m]\u001b[0m\u001b[39;49m To update, run: \u001b[0m\u001b[32;49mpip install --upgrade pip\u001b[0m\n"
     ]
    }
   ],
   "source": [
    "!pip install --quiet -U langchain-community"
   ]
  },
  {
   "cell_type": "code",
   "execution_count": 1,
   "id": "1f173cbd-0e30-4be3-8e50-40d0bc1ae0de",
   "metadata": {},
   "outputs": [
    {
     "data": {
      "text/plain": [
       "True"
      ]
     },
     "execution_count": 1,
     "metadata": {},
     "output_type": "execute_result"
    }
   ],
   "source": [
    "# Or you can use a .env file\n",
    "from dotenv import load_dotenv\n",
    "load_dotenv(dotenv_path=\"../.env\", override=True) "
   ]
  },
  {
   "cell_type": "code",
   "execution_count": 2,
   "id": "c0c14509-1450-4cd3-970d-d323c2fa28e5",
   "metadata": {},
   "outputs": [
    {
     "name": "stdout",
     "output_type": "stream",
     "text": [
      "models/gemini-1.0-pro-latest\n",
      "models/gemini-1.0-pro\n",
      "models/gemini-pro\n",
      "models/gemini-1.0-pro-001\n",
      "models/gemini-1.0-pro-vision-latest\n",
      "models/gemini-pro-vision\n",
      "models/gemini-1.5-pro-latest\n",
      "models/gemini-1.5-pro-001\n",
      "models/gemini-1.5-pro-002\n",
      "models/gemini-1.5-pro\n",
      "models/gemini-1.5-pro-exp-0801\n",
      "models/gemini-1.5-pro-exp-0827\n",
      "models/gemini-1.5-flash-latest\n",
      "models/gemini-1.5-flash-001\n",
      "models/gemini-1.5-flash-001-tuning\n",
      "models/gemini-1.5-flash\n",
      "models/gemini-1.5-flash-exp-0827\n",
      "models/gemini-1.5-flash-002\n",
      "models/gemini-1.5-flash-8b\n",
      "models/gemini-1.5-flash-8b-001\n",
      "models/gemini-1.5-flash-8b-latest\n",
      "models/gemini-1.5-flash-8b-exp-0827\n",
      "models/gemini-1.5-flash-8b-exp-0924\n",
      "models/gemini-2.0-flash-exp\n",
      "models/gemini-exp-1206\n",
      "models/gemini-exp-1121\n",
      "models/gemini-exp-1114\n",
      "models/gemini-2.0-flash-thinking-exp\n",
      "models/gemini-2.0-flash-thinking-exp-1219\n",
      "models/learnlm-1.5-pro-experimental\n",
      "Quantum computing harnesses the bizarre laws of quantum mechanics to solve problems too complex for classical computers.  Instead of bits, which represent 0 or 1, quantum computers use qubits.  Qubits can exist in a superposition, representing both 0 and 1 simultaneously.  This, along with other quantum phenomena like entanglement (linking two or more qubits so they act as a single system) and quantum tunneling, allows quantum computers to explore vast numbers of possibilities at once.\n",
      "\n",
      "While still in its early stages, quantum computing has the potential to revolutionize fields like medicine (drug discovery), materials science, finance (risk modeling), and artificial intelligence.  However, building and programming quantum computers is incredibly challenging, and widespread practical application is still some years away.  Current quantum computers are noisy and error-prone, and the algorithms required to leverage their power are still being developed.\n",
      "\n"
     ]
    }
   ],
   "source": [
    "import google as gl\n",
    "import google.generativeai as genai\n",
    "\n",
    "\n",
    "models = genai.list_models()\n",
    "for model in models:\n",
    "    if 'generateContent' in model.supported_generation_methods:\n",
    "        print(model.name)\n",
    "\n",
    "model = genai.GenerativeModel('gemini-1.5-pro-latest')\n",
    "model\n",
    "\n",
    "response = model.generate_content(\"Provide a brief overview of quantum computing.\")\n",
    "print(response.text)\n"
   ]
  },
  {
   "cell_type": "markdown",
   "id": "c59b09b2-b938-4f73-a032-cb17c6aefc11",
   "metadata": {},
   "source": [
    "models/gemini-1.0-pro-latest\n",
    "models/gemini-1.0-pro\n",
    "models/gemini-pro\n",
    "models/gemini-1.0-pro-001\n",
    "models/gemini-1.0-pro-vision-latest\n",
    "models/gemini-pro-vision\n",
    "models/gemini-1.5-pro-latest\n",
    "models/gemini-1.5-pro-001\n",
    "models/gemini-1.5-pro-002\n",
    "models/gemini-1.5-pro\n",
    "models/gemini-1.5-pro-exp-0801\n",
    "models/gemini-1.5-pro-exp-0827\n",
    "models/gemini-1.5-flash-latest\n",
    "models/gemini-1.5-flash-001\n",
    "models/gemini-1.5-flash-001-tuning\n",
    "models/gemini-1.5-flash\n",
    "models/gemini-1.5-flash-exp-0827\n",
    "models/gemini-1.5-flash-002\n",
    "models/gemini-1.5-flash-8b\n",
    "models/gemini-1.5-flash-8b-001\n",
    "models/gemini-1.5-flash-8b-latest\n",
    "models/gemini-1.5-flash-8b-exp-0827\n",
    "models/gemini-1.5-flash-8b-exp-0924\n",
    "models/gemini-2.0-flash-exp\n",
    "models/gemini-exp-1206\n",
    "models/gemini-exp-1121\n",
    "models/gemini-exp-1114\n",
    "models/gemini-2.0-flash-thinking-exp\n",
    "models/gemini-2.0-flash-thinking-exp-1219\n",
    "models/learnlm-1.5-pro-experimental"
   ]
  },
  {
   "cell_type": "code",
   "execution_count": 9,
   "id": "7976d830-ab3b-45f1-b9c0-ee9641b5bd29",
   "metadata": {},
   "outputs": [
    {
     "data": {
      "text/plain": [
       "genai.GenerativeModel(\n",
       "    model_name='models/gemini-1.5-pro-latest',\n",
       "    generation_config={},\n",
       "    safety_settings={},\n",
       "    tools=None,\n",
       "    system_instruction=None,\n",
       "    cached_content=None\n",
       ")"
      ]
     },
     "execution_count": 9,
     "metadata": {},
     "output_type": "execute_result"
    }
   ],
   "source": []
  },
  {
   "cell_type": "code",
   "execution_count": 10,
   "id": "1bba1005-cb3f-49bf-83d4-352641bfe57c",
   "metadata": {},
   "outputs": [
    {
     "name": "stdout",
     "output_type": "stream",
     "text": [
      "Quantum computing harnesses the mind-bending principles of quantum mechanics to solve complex problems beyond the capabilities of classical computers.  Unlike classical computers that store information as bits representing 0 or 1, quantum computers use qubits. Qubits can exist in a superposition, representing both 0 and 1 simultaneously.  This, along with other quantum phenomena like entanglement (linking two or more qubits so they share the same fate) and quantum interference (allowing for constructive and destructive interference of quantum states),  grants quantum computers the potential to perform calculations exponentially faster than classical computers for specific types of problems.\n",
      "\n",
      "While still in its early stages, quantum computing holds promise for revolutionizing fields like:\n",
      "\n",
      "* **Drug discovery and materials science:** Simulating molecular interactions to design new drugs and materials.\n",
      "* **Financial modeling:** Developing more sophisticated and accurate models for risk assessment and portfolio optimization.\n",
      "* **Cryptography:** Breaking current encryption algorithms and developing new, quantum-resistant ones.\n",
      "* **Artificial intelligence:**  Accelerating machine learning algorithms and enabling new AI capabilities.\n",
      "\n",
      "However, building and maintaining quantum computers is a significant technological challenge. They require extremely low temperatures and are highly susceptible to noise and errors.  Despite these hurdles, the field is rapidly advancing, with ongoing research and development paving the way for increasingly powerful and stable quantum computers.\n",
      "\n"
     ]
    }
   ],
   "source": []
  },
  {
   "cell_type": "code",
   "execution_count": 11,
   "id": "4fe357fd-9d70-45a3-8b19-bc9e916cf115",
   "metadata": {},
   "outputs": [
    {
     "data": {
      "text/plain": [
       "google.generativeai.generative_models.GenerativeModel"
      ]
     },
     "execution_count": 11,
     "metadata": {},
     "output_type": "execute_result"
    }
   ],
   "source": []
  },
  {
   "cell_type": "code",
   "execution_count": null,
   "id": "7c89f996-2b67-424f-a860-e7702809bd17",
   "metadata": {},
   "outputs": [],
   "source": []
  },
  {
   "cell_type": "code",
   "execution_count": null,
   "id": "5c77f83b-4b36-416d-924e-b1e3bfcef31e",
   "metadata": {},
   "outputs": [],
   "source": []
  },
  {
   "cell_type": "code",
   "execution_count": null,
   "id": "883c2f02-b5a5-4348-8fa2-aca7e2928f80",
   "metadata": {},
   "outputs": [],
   "source": []
  },
  {
   "cell_type": "code",
   "execution_count": 4,
   "id": "8579ae7c-23e8-42b8-9d45-ca839362a6a7",
   "metadata": {},
   "outputs": [
    {
     "data": {
      "text/plain": [
       "ChatGoogleGenerativeAI(model='models/gemini-1.5-flash-latest', google_api_key=SecretStr('**********'), client=<google.ai.generativelanguage_v1beta.services.generative_service.client.GenerativeServiceClient object at 0x17f2d5570>, default_metadata=())"
      ]
     },
     "execution_count": 4,
     "metadata": {},
     "output_type": "execute_result"
    }
   ],
   "source": [
    "\n",
    "\n",
    "from llmhelper import get_llm\n",
    "model = get_llm(model_name=\"gemini\")\n",
    "model"
   ]
  },
  {
   "cell_type": "code",
   "execution_count": null,
   "id": "15ce74b1-f8d7-4d85-ad3a-5120506d461d",
   "metadata": {},
   "outputs": [],
   "source": []
  }
 ],
 "metadata": {
  "kernelspec": {
   "display_name": "Python 3 (ipykernel)",
   "language": "python",
   "name": "python3"
  },
  "language_info": {
   "codemirror_mode": {
    "name": "ipython",
    "version": 3
   },
   "file_extension": ".py",
   "mimetype": "text/x-python",
   "name": "python",
   "nbconvert_exporter": "python",
   "pygments_lexer": "ipython3",
   "version": "3.11.9"
  },
  "widgets": {
   "application/vnd.jupyter.widget-state+json": {
    "state": {},
    "version_major": 2,
    "version_minor": 0
   }
  }
 },
 "nbformat": 4,
 "nbformat_minor": 5
}
